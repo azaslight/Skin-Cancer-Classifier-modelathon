{
  "nbformat": 4,
  "nbformat_minor": 0,
  "metadata": {
    "colab": {
      "provenance": [],
      "authorship_tag": "ABX9TyNWxVRVzh9Wcyv3a7EjE/WY",
      "include_colab_link": true
    },
    "kernelspec": {
      "name": "python3",
      "display_name": "Python 3"
    },
    "language_info": {
      "name": "python"
    }
  },
  "cells": [
    {
      "cell_type": "markdown",
      "metadata": {
        "id": "view-in-github",
        "colab_type": "text"
      },
      "source": [
        "<a href=\"https://colab.research.google.com/github/azaslight/Skin-Cancer-Classifier-modelathon/blob/main/area51_telegram.ipynb\" target=\"_parent\"><img src=\"https://colab.research.google.com/assets/colab-badge.svg\" alt=\"Open In Colab\"/></a>"
      ]
    },
    {
      "cell_type": "code",
      "execution_count": 8,
      "metadata": {
        "colab": {
          "base_uri": "https://localhost:8080/"
        },
        "id": "_Farf4arxfau",
        "outputId": "387388b1-b87c-40c6-f029-427568a39eec"
      },
      "outputs": [
        {
          "output_type": "stream",
          "name": "stdout",
          "text": [
            "Requirement already satisfied: pyTelegramBotAPI in /usr/local/lib/python3.10/dist-packages (4.25.0)\n",
            "Requirement already satisfied: requests in /usr/local/lib/python3.10/dist-packages (from pyTelegramBotAPI) (2.32.3)\n",
            "Requirement already satisfied: charset-normalizer<4,>=2 in /usr/local/lib/python3.10/dist-packages (from requests->pyTelegramBotAPI) (3.4.0)\n",
            "Requirement already satisfied: idna<4,>=2.5 in /usr/local/lib/python3.10/dist-packages (from requests->pyTelegramBotAPI) (3.10)\n",
            "Requirement already satisfied: urllib3<3,>=1.21.1 in /usr/local/lib/python3.10/dist-packages (from requests->pyTelegramBotAPI) (2.2.3)\n",
            "Requirement already satisfied: certifi>=2017.4.17 in /usr/local/lib/python3.10/dist-packages (from requests->pyTelegramBotAPI) (2024.8.30)\n"
          ]
        },
        {
          "output_type": "stream",
          "name": "stderr",
          "text": [
            "WARNING:absl:Compiled the loaded model, but the compiled metrics have yet to be built. `model.compile_metrics` will be empty until you train or evaluate the model.\n"
          ]
        },
        {
          "output_type": "stream",
          "name": "stdout",
          "text": [
            "Загружены классы: ['akiec' 'bcc' 'bkl' 'df' 'mel' 'nv' 'vasc']\n",
            "\u001b[1m1/1\u001b[0m \u001b[32m━━━━━━━━━━━━━━━━━━━━\u001b[0m\u001b[37m\u001b[0m \u001b[1m0s\u001b[0m 209ms/step\n",
            "\u001b[1m1/1\u001b[0m \u001b[32m━━━━━━━━━━━━━━━━━━━━\u001b[0m\u001b[37m\u001b[0m \u001b[1m0s\u001b[0m 23ms/step\n"
          ]
        }
      ],
      "source": [
        "# Убедись, что telebot установлен\n",
        "!pip install pyTelegramBotAPI\n",
        "\n",
        "# Импорты\n",
        "import telebot\n",
        "from tensorflow.keras.models import load_model\n",
        "from tensorflow.keras.preprocessing.image import load_img, img_to_array\n",
        "import numpy as np\n",
        "import os\n",
        "import joblib\n",
        "\n",
        "# Инициализация Telegram-бота\n",
        "API_TOKEN = '7107456211:AAESH3zPCwzgakOyxFTx6m50esN6XXdgiA4'\n",
        "bot = telebot.TeleBot(API_TOKEN)\n",
        "\n",
        "# Загрузка модели и label_encoder\n",
        "model = load_model('skin_cancer_classifier.h5')\n",
        "label_encoder = joblib.load('label_encoder.pkl')  # Загрузка label_encoder\n",
        "CLASS_NAMES = label_encoder.classes_              # Определение классов\n",
        "print(f\"Загружены классы: {CLASS_NAMES}\")\n",
        "\n",
        "IMG_SIZE = 64\n",
        "\n",
        "def predict_image(img_path):\n",
        "    img = load_img(img_path, target_size=(IMG_SIZE, IMG_SIZE))\n",
        "    img_array = img_to_array(img) / 255.0\n",
        "    img_array = np.expand_dims(img_array, axis=0)\n",
        "    prediction = model.predict(img_array)\n",
        "    predicted_class = CLASS_NAMES[np.argmax(prediction)]\n",
        "    confidence = np.max(prediction)\n",
        "    return predicted_class, confidence\n",
        "\n",
        "@bot.message_handler(commands=['start'])\n",
        "def welcome(message):\n",
        "    bot.send_message(message.chat.id, \"Добро пожаловать! Отправьте мне изображение кожного поражения, и я попытаюсь классифицировать его.\")\n",
        "\n",
        "@bot.message_handler(content_types=['photo'])\n",
        "def handle_image(message):\n",
        "    photo = message.photo[-1]\n",
        "    file_id = photo.file_id\n",
        "    file_info = bot.get_file(file_id)\n",
        "    downloaded_file = bot.download_file(file_info.file_path)\n",
        "\n",
        "    img_path = 'received_image.jpg'\n",
        "    with open(img_path, 'wb') as new_file:\n",
        "        new_file.write(downloaded_file)\n",
        "\n",
        "    predicted_class, confidence = predict_image(img_path)\n",
        "    bot.reply_to(message, f\"Результат: {predicted_class}\\nУверенность: {confidence * 100:.2f}%\")\n",
        "\n",
        "# Запуск бота\n",
        "bot.polling()"
      ]
    }
  ]
}